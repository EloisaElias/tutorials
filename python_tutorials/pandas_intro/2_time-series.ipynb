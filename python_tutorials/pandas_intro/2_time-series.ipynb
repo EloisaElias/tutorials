{
 "metadata": {
  "name": "",
  "signature": "sha256:894cefa6cb9a13932b5c9beca339f95c6df9c3693e5a69196b9fc41e4c0f6bde"
 },
 "nbformat": 3,
 "nbformat_minor": 0,
 "worksheets": [
  {
   "cells": [
    {
     "cell_type": "markdown",
     "metadata": {},
     "source": [
      "# Looking at a simple time series of data\n",
      "\n",
      "In this example, we will look at a sample of timeseries of data from the Atmospheric Radiation Measurement (ARM) Program's permanent site in the Eastern North Atlantic (ENA). This example also includes one method for reading in data from a netCDF file, which was (will be) covered more in-depth at a different session. Let's jump right into it.\n",
      "\n",
      "First, let us define the path for the file. I prefer to define paths using the `os.path` package present in the standard Python library. This tends to lead to less confusion down the road when reading/writing files located in directories other than the current working directory."
     ]
    },
    {
     "cell_type": "code",
     "collapsed": false,
     "input": [
      "# import the `os` package\n",
      "import os\n",
      "\n",
      "file_path = os.path.abspath('enametC1.b1.20140531.000000.cdf')\n",
      "print(file_path)"
     ],
     "language": "python",
     "metadata": {},
     "outputs": [
      {
       "output_type": "stream",
       "stream": "stdout",
       "text": [
        "/Users/pydev/Documents/bitbucket/notebooks/python_tutorials/pandas_intro/enametC1.b1.20140531.000000.cdf\n"
       ]
      }
     ],
     "prompt_number": 1
    },
    {
     "cell_type": "markdown",
     "metadata": {},
     "source": [
      "As you can see, using `os.path.abspath()` returns the full path of the file that I want to use. Next, we'll go through the code for importing the netCDF file into Python."
     ]
    },
    {
     "cell_type": "code",
     "collapsed": false,
     "input": [
      "# import the netCDF4 Dataset module\n",
      "from netCDF4 import Dataset\n",
      "\n",
      "# import the file as variable 'data'\n",
      "data = Dataset(file_path)\n",
      "\n",
      "# get the temperature field, print the dimensions and the units\n",
      "temp = data.variables['temp_mean']\n",
      "print('Temperature dimensions: {}, units: {}'.format(temp.dimensions, temp.units))\n",
      "\n",
      "# get the time field as well\n",
      "time = data.variables['time']\n",
      "print('Time units: {}'.format(time.units))"
     ],
     "language": "python",
     "metadata": {},
     "outputs": [
      {
       "output_type": "stream",
       "stream": "stdout",
       "text": [
        "Temperature dimensions: (u'time',), units: degC\n",
        "Time units: seconds since 2014-05-31 00:00:00 0:00\n"
       ]
      }
     ],
     "prompt_number": 2
    },
    {
     "cell_type": "markdown",
     "metadata": {},
     "source": [
      "So that's all fine and great, we've defined our netCDF file and imported it into our Python namespace. We have our variable `temp` that is in degC and has units of __time__, and we have the `time` variable that is in units of __seconds since YYYY-MM-DD HH:MM:SS 0:00__. Yeah, great, but what about _pandas_?? We're going to use the `Series` module from _pandas_ to handle this time series data:"
     ]
    },
    {
     "cell_type": "code",
     "collapsed": false,
     "input": [
      "import pandas as pd\n",
      "from pandas import Series\n",
      "\n",
      "tseries = Series(temp[:])\n",
      "tseries.plot()"
     ],
     "language": "python",
     "metadata": {},
     "outputs": [
      {
       "metadata": {},
       "output_type": "pyout",
       "prompt_number": 3,
       "text": [
        "<matplotlib.axes._subplots.AxesSubplot at 0x10a330350>"
       ]
      },
      {
       "metadata": {},
       "output_type": "display_data",
       "png": "[encoded data removed]",
       "text": [
        "<matplotlib.figure.Figure at 0x10a31ce90>"
       ]
      }
     ],
     "prompt_number": 3
    },
    {
     "cell_type": "markdown",
     "metadata": {},
     "source": [
      "We've been able to make this nice pretty plot with very little fuss. Let's take a look at what we actually made when we used the `Series` module:"
     ]
    },
    {
     "cell_type": "code",
     "collapsed": false,
     "input": [
      "tseries.head()"
     ],
     "language": "python",
     "metadata": {},
     "outputs": [
      {
       "metadata": {},
       "output_type": "pyout",
       "prompt_number": 4,
       "text": [
        "0    18.950001\n",
        "1    19.000000\n",
        "2    19.020000\n",
        "3    18.959999\n",
        "4    19.040001\n",
        "dtype: float32"
       ]
      }
     ],
     "prompt_number": 4
    },
    {
     "cell_type": "markdown",
     "metadata": {},
     "source": [
      "As you can see, this is simply a series of data with the index on the left, and the value on the right. This doesn't really help with the time part of the timeseries though, since all we have for the index is literally the index of each value. What if we want more information? How about we index the series with the `time` variable that we took a look at below. What do we get then?"
     ]
    },
    {
     "cell_type": "code",
     "collapsed": false,
     "input": [
      "# let's just reset tseries\n",
      "tseries = None\n",
      "\n",
      "# now redefine it\n",
      "tseries = Series(temp[:], index=time[:])\n",
      "tseries.head()"
     ],
     "language": "python",
     "metadata": {},
     "outputs": [
      {
       "metadata": {},
       "output_type": "pyout",
       "prompt_number": 5,
       "text": [
        "0      18.950001\n",
        "60     19.000000\n",
        "120    19.020000\n",
        "180    18.959999\n",
        "240    19.040001\n",
        "dtype: float32"
       ]
      }
     ],
     "prompt_number": 5
    },
    {
     "cell_type": "markdown",
     "metadata": {},
     "source": [
      "Well that certainly looks better. We now have a clearer picture of what the data really looks like: 1-minute averages of temperature. The index of our Series object is now in the units of `time`, which is slightly better. However, much of the time-savings and functionality of _pandas_ comes when we have the index in a more descriptive format: the python datetime object. \n",
      "\n",
      "One method to do this is to utilize the netCDF attribute `base_time` which is a scalar value reporting the seconds since 1970-01-01. Using this, we can call the `datetime.datetime.utcfromtimestamp()` to turn this into a python datetime object representing the start of the file. Then we can use the `time` variable to compute the python datetime at each point."
     ]
    },
    {
     "cell_type": "code",
     "collapsed": false,
     "input": [
      "import datetime\n",
      "\n",
      "base_time = datetime.datetime.utcfromtimestamp(data.variables['base_time'][:])\n",
      "print(base_time)\n",
      "\n",
      "dtindex = base_time + pd.to_timedelta(time[:], unit='s')\n",
      "print(dtindex)\n",
      "\n",
      "tseries = None\n",
      "tseries = Series(temp, index=dtindex)\n",
      "tseries.head()"
     ],
     "language": "python",
     "metadata": {},
     "outputs": [
      {
       "output_type": "stream",
       "stream": "stdout",
       "text": [
        "2014-05-31 00:00:00\n",
        "<class 'pandas.tseries.index.DatetimeIndex'>\n",
        "[2014-05-31 00:00:00, ..., 2014-05-31 23:59:00]\n",
        "Length: 1440, Freq: None, Timezone: None\n"
       ]
      },
      {
       "metadata": {},
       "output_type": "pyout",
       "prompt_number": 6,
       "text": [
        "2014-05-31 00:00:00    18.950001\n",
        "2014-05-31 00:01:00    19.000000\n",
        "2014-05-31 00:02:00    19.020000\n",
        "2014-05-31 00:03:00    18.959999\n",
        "2014-05-31 00:04:00    19.040001\n",
        "dtype: float32"
       ]
      }
     ],
     "prompt_number": 6
    },
    {
     "cell_type": "code",
     "collapsed": false,
     "input": [
      "tseries.plot()"
     ],
     "language": "python",
     "metadata": {},
     "outputs": [
      {
       "metadata": {},
       "output_type": "pyout",
       "prompt_number": 7,
       "text": [
        "<matplotlib.axes._subplots.AxesSubplot at 0x10a423210>"
       ]
      },
      {
       "metadata": {},
       "output_type": "display_data",
       "png": "[encoded data removed]",
       "text": [
        "<matplotlib.figure.Figure at 0x1080ae0d0>"
       ]
      }
     ],
     "prompt_number": 7
    },
    {
     "cell_type": "markdown",
     "metadata": {},
     "source": [
      "Now we can see that the index of the pandas series is represented as a date and time, and the plot shows a nicely formatted x-axis with the date and times. Much nicer. But wait, there's more! What if we'd really just prefer to plot hourly averages. Or perhaps we just want to look at the data from noon onwards?"
     ]
    },
    {
     "cell_type": "code",
     "collapsed": false,
     "input": [
      "# Resampling data to 1 hour average\n",
      "tseries_hourly = tseries.resample('1H', how=['min', 'mean', 'max'])\n",
      "tseries_hourly.plot(style='.-')"
     ],
     "language": "python",
     "metadata": {},
     "outputs": [
      {
       "metadata": {},
       "output_type": "pyout",
       "prompt_number": 8,
       "text": [
        "<matplotlib.axes._subplots.AxesSubplot at 0x10a3e3a90>"
       ]
      },
      {
       "metadata": {},
       "output_type": "display_data",
       "png": "[encoded data removed]",
       "text": [
        "<matplotlib.figure.Figure at 0x10a42b8d0>"
       ]
      }
     ],
     "prompt_number": 8
    },
    {
     "cell_type": "code",
     "collapsed": false,
     "input": [
      "# Looking at a subset of the data\n",
      "tseries['2014-05-31 12:00':].head()"
     ],
     "language": "python",
     "metadata": {},
     "outputs": [
      {
       "metadata": {},
       "output_type": "pyout",
       "prompt_number": 9,
       "text": [
        "2014-05-31 12:00:00    22.840000\n",
        "2014-05-31 12:01:00    23.000000\n",
        "2014-05-31 12:02:00    23.190001\n",
        "2014-05-31 12:03:00    23.219999\n",
        "2014-05-31 12:04:00    23.070000\n",
        "dtype: float32"
       ]
      }
     ],
     "prompt_number": 9
    },
    {
     "cell_type": "markdown",
     "metadata": {},
     "source": [
      "### Putting it all together\n",
      "\n",
      "This might seem like a lot of code so far just to make a simple little plot. Chances are, however, that you're going to be reading and writing in a lot of netCDF files, or csv files, or whatever. So it might be useful to define a function that you can then use in other applications. This is what one such function (and subsequent use) might look like:"
     ]
    },
    {
     "cell_type": "code",
     "collapsed": false,
     "input": [
      "import os\n",
      "\n",
      "def cdf_to_series(netcdf_file, varname):\n",
      "    \"\"\"Takes in a netCDF object and a variable name and returns a pandas Series object.\n",
      "    \n",
      "    This function requires the netCDF file to have a `base_time` attribute with units of\n",
      "    'seconds since 1970-01-01' and a `time` attribute with units of seconds.\n",
      "    \"\"\"\n",
      "    \n",
      "    # import the necessary packages and modules needed within the function\n",
      "    from netCDF4 import Dataset\n",
      "    import pandas as pd\n",
      "    import datetime\n",
      "    \n",
      "    # define our netCDF dataset and open it with \"with ... as ... :\"\n",
      "    with Dataset(netcdf_file, 'r') as D:\n",
      "    \n",
      "        # turn it into a series.\n",
      "        # note: this combines most of the steps from above into a single step\n",
      "        S = pd.Series(D.variables[varname][:], \n",
      "                  index=datetime.datetime.utcfromtimestamp(D.variables['base_time'][:]) + \n",
      "                        pd.to_timedelta(D.variables['time'][:], unit='s'))\n",
      "    \n",
      "    # return the pandas Series\n",
      "    return S\n",
      "\n",
      "# define the location of the netCDF file\n",
      "netcdf_file = os.path.abspath('enametC1.b1.20140531.000000.cdf')\n",
      "\n",
      "# we can print out the help documentation for the function we defined earlier\n",
      "help(cdf_to_series)\n",
      "\n",
      "# call the function and look at the data\n",
      "tseries = cdf_to_series(netcdf_file, 'temp_mean')\n",
      "tseries.head()"
     ],
     "language": "python",
     "metadata": {},
     "outputs": [
      {
       "output_type": "stream",
       "stream": "stdout",
       "text": [
        "Help on function cdf_to_series in module __main__:\n",
        "\n",
        "cdf_to_series(netcdf_file, varname)\n",
        "    Takes in a netCDF object and a variable name and returns a pandas Series object.\n",
        "    \n",
        "    This function requires the netCDF file to have a `base_time` attribute with units of\n",
        "    'seconds since 1970-01-01' and a `time` attribute with units of seconds.\n",
        "\n"
       ]
      },
      {
       "metadata": {},
       "output_type": "pyout",
       "prompt_number": 10,
       "text": [
        "2014-05-31 00:00:00    18.950001\n",
        "2014-05-31 00:01:00    19.000000\n",
        "2014-05-31 00:02:00    19.020000\n",
        "2014-05-31 00:03:00    18.959999\n",
        "2014-05-31 00:04:00    19.040001\n",
        "dtype: float32"
       ]
      }
     ],
     "prompt_number": 10
    },
    {
     "cell_type": "markdown",
     "metadata": {},
     "source": [
      "### Summary\n",
      "\n",
      "You can start to get a sense that once you have data in a _pandas_ Series object, it gets just a bit easier to do complex operations concerning data alignment and averaging. Now, what I've shown in this notebook is only just a sneak peek at the power behind _pandas_ for scientific data analysis. In subsequent sections I will discuss the `DataFrame` object, how to group and manipulate data, joining different datasets, and plotting."
     ]
    }
   ],
   "metadata": {}
  }
 ]
}